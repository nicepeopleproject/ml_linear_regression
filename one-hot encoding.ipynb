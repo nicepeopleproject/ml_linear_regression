{
 "cells": [
  {
   "cell_type": "code",
   "execution_count": 1,
   "id": "b6c51151",
   "metadata": {},
   "outputs": [],
   "source": [
    "import pandas as pd\n",
    "import numpy as np"
   ]
  },
  {
   "cell_type": "code",
   "execution_count": 2,
   "id": "91d3a59d",
   "metadata": {},
   "outputs": [],
   "source": [
    "from sklearn.feature_extraction import DictVectorizer"
   ]
  },
  {
   "cell_type": "code",
   "execution_count": 50,
   "id": "53e7c26b",
   "metadata": {},
   "outputs": [],
   "source": [
    "df = pd.read_csv('data/data.csv')"
   ]
  },
  {
   "cell_type": "code",
   "execution_count": 51,
   "id": "ed9fb0e8",
   "metadata": {},
   "outputs": [
    {
     "data": {
      "text/plain": [
       "Index(['Make', 'Model', 'Year', 'Engine Fuel Type', 'Engine HP',\n",
       "       'Engine Cylinders', 'Transmission Type', 'Driven_Wheels',\n",
       "       'Number of Doors', 'Market Category', 'Vehicle Size', 'Vehicle Style',\n",
       "       'highway MPG', 'city mpg', 'Popularity', 'MSRP'],\n",
       "      dtype='object')"
      ]
     },
     "execution_count": 51,
     "metadata": {},
     "output_type": "execute_result"
    }
   ],
   "source": [
    "df.columns"
   ]
  },
  {
   "cell_type": "code",
   "execution_count": 52,
   "id": "6edc0238",
   "metadata": {},
   "outputs": [],
   "source": [
    "df = df[['Make', 'Transmission Type', 'MSRP', 'Number of Doors']].iloc[[1,200, 999, 17, 1900, 2100]]"
   ]
  },
  {
   "cell_type": "code",
   "execution_count": 53,
   "id": "671281e3",
   "metadata": {},
   "outputs": [],
   "source": [
    "df.columns = df.columns.str.replace(' ','_').str.lower()"
   ]
  },
  {
   "cell_type": "code",
   "execution_count": 54,
   "id": "16e6b8de",
   "metadata": {},
   "outputs": [
    {
     "data": {
      "text/html": [
       "<div>\n",
       "<style scoped>\n",
       "    .dataframe tbody tr th:only-of-type {\n",
       "        vertical-align: middle;\n",
       "    }\n",
       "\n",
       "    .dataframe tbody tr th {\n",
       "        vertical-align: top;\n",
       "    }\n",
       "\n",
       "    .dataframe thead th {\n",
       "        text-align: right;\n",
       "    }\n",
       "</style>\n",
       "<table border=\"1\" class=\"dataframe\">\n",
       "  <thead>\n",
       "    <tr style=\"text-align: right;\">\n",
       "      <th></th>\n",
       "      <th>make</th>\n",
       "      <th>transmission_type</th>\n",
       "      <th>msrp</th>\n",
       "      <th>number_of_doors</th>\n",
       "    </tr>\n",
       "  </thead>\n",
       "  <tbody>\n",
       "    <tr>\n",
       "      <th>1</th>\n",
       "      <td>BMW</td>\n",
       "      <td>MANUAL</td>\n",
       "      <td>40650</td>\n",
       "      <td>2.0</td>\n",
       "    </tr>\n",
       "    <tr>\n",
       "      <th>200</th>\n",
       "      <td>Mitsubishi</td>\n",
       "      <td>MANUAL</td>\n",
       "      <td>5306</td>\n",
       "      <td>2.0</td>\n",
       "    </tr>\n",
       "    <tr>\n",
       "      <th>999</th>\n",
       "      <td>Porsche</td>\n",
       "      <td>MANUAL</td>\n",
       "      <td>3083</td>\n",
       "      <td>2.0</td>\n",
       "    </tr>\n",
       "    <tr>\n",
       "      <th>17</th>\n",
       "      <td>Audi</td>\n",
       "      <td>MANUAL</td>\n",
       "      <td>2000</td>\n",
       "      <td>4.0</td>\n",
       "    </tr>\n",
       "    <tr>\n",
       "      <th>1900</th>\n",
       "      <td>Volkswagen</td>\n",
       "      <td>AUTOMATED_MANUAL</td>\n",
       "      <td>26550</td>\n",
       "      <td>2.0</td>\n",
       "    </tr>\n",
       "    <tr>\n",
       "      <th>2100</th>\n",
       "      <td>Ford</td>\n",
       "      <td>AUTOMATIC</td>\n",
       "      <td>27120</td>\n",
       "      <td>4.0</td>\n",
       "    </tr>\n",
       "  </tbody>\n",
       "</table>\n",
       "</div>"
      ],
      "text/plain": [
       "            make transmission_type   msrp  number_of_doors\n",
       "1            BMW            MANUAL  40650              2.0\n",
       "200   Mitsubishi            MANUAL   5306              2.0\n",
       "999      Porsche            MANUAL   3083              2.0\n",
       "17          Audi            MANUAL   2000              4.0\n",
       "1900  Volkswagen  AUTOMATED_MANUAL  26550              2.0\n",
       "2100        Ford         AUTOMATIC  27120              4.0"
      ]
     },
     "execution_count": 54,
     "metadata": {},
     "output_type": "execute_result"
    }
   ],
   "source": [
    "df"
   ]
  },
  {
   "cell_type": "code",
   "execution_count": 55,
   "id": "62c312ec",
   "metadata": {},
   "outputs": [],
   "source": [
    "df['transmission_type==MANUAL']=(df.transmission_type=='MANUAL').astype(int)"
   ]
  },
  {
   "cell_type": "code",
   "execution_count": 56,
   "id": "2580e4a0",
   "metadata": {},
   "outputs": [],
   "source": [
    "del df['transmission_type==MANUAL']"
   ]
  },
  {
   "cell_type": "code",
   "execution_count": 57,
   "id": "d6f7c7af",
   "metadata": {
    "scrolled": false
   },
   "outputs": [
    {
     "data": {
      "text/html": [
       "<div>\n",
       "<style scoped>\n",
       "    .dataframe tbody tr th:only-of-type {\n",
       "        vertical-align: middle;\n",
       "    }\n",
       "\n",
       "    .dataframe tbody tr th {\n",
       "        vertical-align: top;\n",
       "    }\n",
       "\n",
       "    .dataframe thead th {\n",
       "        text-align: right;\n",
       "    }\n",
       "</style>\n",
       "<table border=\"1\" class=\"dataframe\">\n",
       "  <thead>\n",
       "    <tr style=\"text-align: right;\">\n",
       "      <th></th>\n",
       "      <th>make</th>\n",
       "      <th>transmission_type</th>\n",
       "      <th>msrp</th>\n",
       "      <th>number_of_doors</th>\n",
       "    </tr>\n",
       "  </thead>\n",
       "  <tbody>\n",
       "    <tr>\n",
       "      <th>1</th>\n",
       "      <td>BMW</td>\n",
       "      <td>MANUAL</td>\n",
       "      <td>40650</td>\n",
       "      <td>2.0</td>\n",
       "    </tr>\n",
       "    <tr>\n",
       "      <th>200</th>\n",
       "      <td>Mitsubishi</td>\n",
       "      <td>MANUAL</td>\n",
       "      <td>5306</td>\n",
       "      <td>2.0</td>\n",
       "    </tr>\n",
       "    <tr>\n",
       "      <th>999</th>\n",
       "      <td>Porsche</td>\n",
       "      <td>MANUAL</td>\n",
       "      <td>3083</td>\n",
       "      <td>2.0</td>\n",
       "    </tr>\n",
       "    <tr>\n",
       "      <th>17</th>\n",
       "      <td>Audi</td>\n",
       "      <td>MANUAL</td>\n",
       "      <td>2000</td>\n",
       "      <td>4.0</td>\n",
       "    </tr>\n",
       "    <tr>\n",
       "      <th>1900</th>\n",
       "      <td>Volkswagen</td>\n",
       "      <td>AUTOMATED_MANUAL</td>\n",
       "      <td>26550</td>\n",
       "      <td>2.0</td>\n",
       "    </tr>\n",
       "    <tr>\n",
       "      <th>2100</th>\n",
       "      <td>Ford</td>\n",
       "      <td>AUTOMATIC</td>\n",
       "      <td>27120</td>\n",
       "      <td>4.0</td>\n",
       "    </tr>\n",
       "  </tbody>\n",
       "</table>\n",
       "</div>"
      ],
      "text/plain": [
       "            make transmission_type   msrp  number_of_doors\n",
       "1            BMW            MANUAL  40650              2.0\n",
       "200   Mitsubishi            MANUAL   5306              2.0\n",
       "999      Porsche            MANUAL   3083              2.0\n",
       "17          Audi            MANUAL   2000              4.0\n",
       "1900  Volkswagen  AUTOMATED_MANUAL  26550              2.0\n",
       "2100        Ford         AUTOMATIC  27120              4.0"
      ]
     },
     "execution_count": 57,
     "metadata": {},
     "output_type": "execute_result"
    }
   ],
   "source": [
    "df"
   ]
  },
  {
   "cell_type": "code",
   "execution_count": 63,
   "id": "85cb3bc3",
   "metadata": {},
   "outputs": [],
   "source": [
    "df.number_of_doors = df.number_of_doors.astype(str)"
   ]
  },
  {
   "cell_type": "code",
   "execution_count": 64,
   "id": "abfe852b",
   "metadata": {},
   "outputs": [],
   "source": [
    "dict_train = df.to_dict(orient='records')"
   ]
  },
  {
   "cell_type": "code",
   "execution_count": 65,
   "id": "76352975",
   "metadata": {},
   "outputs": [],
   "source": [
    "dv = DictVectorizer(sparse=False)"
   ]
  },
  {
   "cell_type": "code",
   "execution_count": 66,
   "id": "c1947efa",
   "metadata": {},
   "outputs": [
    {
     "data": {
      "text/plain": [
       "DictVectorizer(sparse=False)"
      ]
     },
     "execution_count": 66,
     "metadata": {},
     "output_type": "execute_result"
    }
   ],
   "source": [
    "dv.fit(dict_train)"
   ]
  },
  {
   "cell_type": "code",
   "execution_count": 67,
   "id": "aed8ec62",
   "metadata": {},
   "outputs": [
    {
     "data": {
      "text/plain": [
       "['make=Audi',\n",
       " 'make=BMW',\n",
       " 'make=Ford',\n",
       " 'make=Mitsubishi',\n",
       " 'make=Porsche',\n",
       " 'make=Volkswagen',\n",
       " 'msrp',\n",
       " 'number_of_doors=2.0',\n",
       " 'number_of_doors=4.0',\n",
       " 'transmission_type=AUTOMATED_MANUAL',\n",
       " 'transmission_type=AUTOMATIC',\n",
       " 'transmission_type=MANUAL']"
      ]
     },
     "execution_count": 67,
     "metadata": {},
     "output_type": "execute_result"
    }
   ],
   "source": [
    "dv.get_feature_names()"
   ]
  },
  {
   "cell_type": "code",
   "execution_count": 68,
   "id": "a1fb8e61",
   "metadata": {},
   "outputs": [
    {
     "data": {
      "text/html": [
       "<div>\n",
       "<style scoped>\n",
       "    .dataframe tbody tr th:only-of-type {\n",
       "        vertical-align: middle;\n",
       "    }\n",
       "\n",
       "    .dataframe tbody tr th {\n",
       "        vertical-align: top;\n",
       "    }\n",
       "\n",
       "    .dataframe thead th {\n",
       "        text-align: right;\n",
       "    }\n",
       "</style>\n",
       "<table border=\"1\" class=\"dataframe\">\n",
       "  <thead>\n",
       "    <tr style=\"text-align: right;\">\n",
       "      <th></th>\n",
       "      <th>make</th>\n",
       "      <th>transmission_type</th>\n",
       "      <th>msrp</th>\n",
       "      <th>number_of_doors</th>\n",
       "    </tr>\n",
       "  </thead>\n",
       "  <tbody>\n",
       "    <tr>\n",
       "      <th>1</th>\n",
       "      <td>BMW</td>\n",
       "      <td>MANUAL</td>\n",
       "      <td>40650</td>\n",
       "      <td>2.0</td>\n",
       "    </tr>\n",
       "    <tr>\n",
       "      <th>200</th>\n",
       "      <td>Mitsubishi</td>\n",
       "      <td>MANUAL</td>\n",
       "      <td>5306</td>\n",
       "      <td>2.0</td>\n",
       "    </tr>\n",
       "    <tr>\n",
       "      <th>999</th>\n",
       "      <td>Porsche</td>\n",
       "      <td>MANUAL</td>\n",
       "      <td>3083</td>\n",
       "      <td>2.0</td>\n",
       "    </tr>\n",
       "    <tr>\n",
       "      <th>17</th>\n",
       "      <td>Audi</td>\n",
       "      <td>MANUAL</td>\n",
       "      <td>2000</td>\n",
       "      <td>4.0</td>\n",
       "    </tr>\n",
       "    <tr>\n",
       "      <th>1900</th>\n",
       "      <td>Volkswagen</td>\n",
       "      <td>AUTOMATED_MANUAL</td>\n",
       "      <td>26550</td>\n",
       "      <td>2.0</td>\n",
       "    </tr>\n",
       "    <tr>\n",
       "      <th>2100</th>\n",
       "      <td>Ford</td>\n",
       "      <td>AUTOMATIC</td>\n",
       "      <td>27120</td>\n",
       "      <td>4.0</td>\n",
       "    </tr>\n",
       "  </tbody>\n",
       "</table>\n",
       "</div>"
      ],
      "text/plain": [
       "            make transmission_type   msrp number_of_doors\n",
       "1            BMW            MANUAL  40650             2.0\n",
       "200   Mitsubishi            MANUAL   5306             2.0\n",
       "999      Porsche            MANUAL   3083             2.0\n",
       "17          Audi            MANUAL   2000             4.0\n",
       "1900  Volkswagen  AUTOMATED_MANUAL  26550             2.0\n",
       "2100        Ford         AUTOMATIC  27120             4.0"
      ]
     },
     "execution_count": 68,
     "metadata": {},
     "output_type": "execute_result"
    }
   ],
   "source": [
    "df"
   ]
  },
  {
   "cell_type": "code",
   "execution_count": 69,
   "id": "e5a457c8",
   "metadata": {},
   "outputs": [
    {
     "data": {
      "text/plain": [
       "array([[0.000e+00, 1.000e+00, 0.000e+00, 0.000e+00, 0.000e+00, 0.000e+00,\n",
       "        4.065e+04, 1.000e+00, 0.000e+00, 0.000e+00, 0.000e+00, 1.000e+00],\n",
       "       [0.000e+00, 0.000e+00, 0.000e+00, 1.000e+00, 0.000e+00, 0.000e+00,\n",
       "        5.306e+03, 1.000e+00, 0.000e+00, 0.000e+00, 0.000e+00, 1.000e+00],\n",
       "       [0.000e+00, 0.000e+00, 0.000e+00, 0.000e+00, 1.000e+00, 0.000e+00,\n",
       "        3.083e+03, 1.000e+00, 0.000e+00, 0.000e+00, 0.000e+00, 1.000e+00],\n",
       "       [1.000e+00, 0.000e+00, 0.000e+00, 0.000e+00, 0.000e+00, 0.000e+00,\n",
       "        2.000e+03, 0.000e+00, 1.000e+00, 0.000e+00, 0.000e+00, 1.000e+00],\n",
       "       [0.000e+00, 0.000e+00, 0.000e+00, 0.000e+00, 0.000e+00, 1.000e+00,\n",
       "        2.655e+04, 1.000e+00, 0.000e+00, 1.000e+00, 0.000e+00, 0.000e+00],\n",
       "       [0.000e+00, 0.000e+00, 1.000e+00, 0.000e+00, 0.000e+00, 0.000e+00,\n",
       "        2.712e+04, 0.000e+00, 1.000e+00, 0.000e+00, 1.000e+00, 0.000e+00]])"
      ]
     },
     "execution_count": 69,
     "metadata": {},
     "output_type": "execute_result"
    }
   ],
   "source": [
    "dv.transform(dict_train)"
   ]
  }
 ],
 "metadata": {
  "kernelspec": {
   "display_name": "Python 3",
   "language": "python",
   "name": "python3"
  },
  "language_info": {
   "codemirror_mode": {
    "name": "ipython",
    "version": 3
   },
   "file_extension": ".py",
   "mimetype": "text/x-python",
   "name": "python",
   "nbconvert_exporter": "python",
   "pygments_lexer": "ipython3",
   "version": "3.8.8"
  }
 },
 "nbformat": 4,
 "nbformat_minor": 5
}
